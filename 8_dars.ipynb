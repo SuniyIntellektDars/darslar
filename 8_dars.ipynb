{
 "cells": [
  {
   "cell_type": "code",
   "execution_count": 8,
   "id": "5eda6483",
   "metadata": {},
   "outputs": [
    {
     "name": "stdout",
     "output_type": "stream",
     "text": [
      "d = 5\n",
      "m = 4\n",
      "6.4\n"
     ]
    }
   ],
   "source": [
    "#case 9\n",
    "\n",
    "d = int(input('d = '))\n",
    "m = int(input('m = '))\n",
    "\n",
    "d+=1  # d = d + 1\n",
    "\n",
    "if m == 4 or m == 6 or m == 9 or m == 11:\n",
    "    if d>30:\n",
    "        d = 1\n",
    "        m += 1\n",
    "elif m == 2:\n",
    "    if d>28:\n",
    "        d = 1\n",
    "        m = 3\n",
    "else:\n",
    "    if d>31:\n",
    "        d = 1\n",
    "        m += 1\n",
    "    if m > 12:\n",
    "        m = 1\n",
    "\n",
    "print(d,m,sep='.')"
   ]
  },
  {
   "cell_type": "code",
   "execution_count": 15,
   "id": "3dcfdea0",
   "metadata": {},
   "outputs": [
    {
     "name": "stdout",
     "output_type": "stream",
     "text": [
      "d = 5\n",
      "m = 6\n",
      "y = 1000\n",
      "4.6.1000\n"
     ]
    }
   ],
   "source": [
    "d = int(input(\"d = \"))\n",
    "m = int(input('m = '))\n",
    "y = int(input('y = '))\n",
    "\n",
    "kabisa = False\n",
    "if y%4==0:\n",
    "    kabisa = True\n",
    "if y%100==0 and y%400!=0:\n",
    "    kabisa = False\n",
    "    \n",
    "d = d - 1\n",
    "\n",
    "if m == 5 or m == 7 or m == 10 or m == 12:\n",
    "    if d==0:\n",
    "        d = 30\n",
    "        m = m - 1\n",
    "elif m == 3:\n",
    "    if d == 0:\n",
    "        d = 28 + kabisa\n",
    "        m = 2\n",
    "else:\n",
    "    if d == 0:\n",
    "        d = 31\n",
    "        m = m - 1\n",
    "    if m == 0:\n",
    "        m = 12\n",
    "        y = y - 1\n",
    "        \n",
    "print(d,m,y,sep='.')"
   ]
  },
  {
   "cell_type": "code",
   "execution_count": 17,
   "id": "9c8ac66a",
   "metadata": {},
   "outputs": [
    {
     "name": "stdout",
     "output_type": "stream",
     "text": [
      "Qayerga qarab turman = sh\n",
      "Buyruq = 2\n",
      "Janub\n"
     ]
    }
   ],
   "source": [
    "# case 10\n",
    "\n",
    "taraf = input('Qayerga qarab turman = ')\n",
    "buyruq = int(input('Buyruq = '))\n",
    "\n",
    "if taraf == 's':\n",
    "    if buyruq == 0:\n",
    "        print(\"Shimol\")\n",
    "    if buyruq == 1:\n",
    "        print(\"G'arb\")\n",
    "    if buyruq == 2:\n",
    "        print(\"Sharq\")\n",
    "if taraf == 'sh':\n",
    "    if buyruq == 0:\n",
    "        print(\"Sharq\")\n",
    "    if buyruq == 1:\n",
    "        print(\"Shimol\")\n",
    "    if buyruq == 2:\n",
    "        print(\"Janub\")\n",
    "if taraf == 'j':\n",
    "    if buyruq == 0:\n",
    "        print(\"Janub\")\n",
    "    if buyruq == 1:\n",
    "        print(\"Sharq\")\n",
    "    if buyruq == 2:\n",
    "        print(\"G'arb\")\n",
    "if taraf == 'g':\n",
    "    if buyruq == 0:\n",
    "        print(\"G'arb\")\n",
    "    if buyruq == 1:\n",
    "        print(\"Janub\")\n",
    "    if buyruq == 2:\n",
    "        print(\"Shimol\")"
   ]
  },
  {
   "cell_type": "code",
   "execution_count": 20,
   "id": "8a3dd264",
   "metadata": {},
   "outputs": [
    {
     "name": "stdout",
     "output_type": "stream",
     "text": [
      "m = 3\n",
      "n = 14\n",
      "Tuz Chillak\n"
     ]
    }
   ],
   "source": [
    "# Case 15\n",
    "\n",
    "m = int(input('m = '))\n",
    "n = int(input('n = '))\n",
    "\n",
    "if n == 6:\n",
    "    print(\"Olti\",end=' ')\n",
    "if n == 7:\n",
    "    print(\"Yetti\",end=' ')\n",
    "if n==8:\n",
    "    print(\"Sakkiz\",end=' ')\n",
    "if n == 9:\n",
    "    print(\"To'qqiz\",end=' ')\n",
    "if n == 10:\n",
    "    print(\"O'n\",end=' ')\n",
    "if n == 11:\n",
    "    print(\"Valet\",end=' ')\n",
    "if n == 12:\n",
    "    print(\"Dama\",end=' ')\n",
    "if n == 13:\n",
    "    print(\"Qirol\",end=' ')\n",
    "if n == 14:\n",
    "    print(\"Tuz\",end=' ')\n",
    "\n",
    "if m == 1:\n",
    "    print(\"G'isht\")\n",
    "if m == 2:\n",
    "    print(\"Olma\")\n",
    "if m == 3:\n",
    "    print(\"Chillak\")\n",
    "if m== 4:\n",
    "    print(\"Qarg'a\")"
   ]
  },
  {
   "cell_type": "code",
   "execution_count": null,
   "id": "5251253a",
   "metadata": {},
   "outputs": [],
   "source": []
  }
 ],
 "metadata": {
  "kernelspec": {
   "display_name": "Python 3",
   "language": "python",
   "name": "python3"
  },
  "language_info": {
   "codemirror_mode": {
    "name": "ipython",
    "version": 3
   },
   "file_extension": ".py",
   "mimetype": "text/x-python",
   "name": "python",
   "nbconvert_exporter": "python",
   "pygments_lexer": "ipython3",
   "version": "3.9.8"
  }
 },
 "nbformat": 4,
 "nbformat_minor": 5
}
